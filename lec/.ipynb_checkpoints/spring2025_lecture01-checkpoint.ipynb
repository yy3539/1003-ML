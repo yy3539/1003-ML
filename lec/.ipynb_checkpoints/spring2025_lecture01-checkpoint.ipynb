{
 "cells": [
  {
   "cell_type": "markdown",
   "metadata": {
    "slideshow": {
     "slide_type": "slide"
    }
   },
   "source": [
    "##### NYU CDS (Center for Data Science)\n",
    "\n",
    "# DS-GA 1019: Advanced Python for Data Science\n",
    "\n",
    "## Lecture 01\n",
    "### 01/23/2025"
   ]
  },
  {
   "cell_type": "markdown",
   "metadata": {
    "slideshow": {
     "slide_type": "slide"
    }
   },
   "source": [
    "# Course Details\n",
    "\n",
    "**Instructor**: Majid Haghani Rizi <mh7522@nyu.edu>\n",
    "\n",
    "**Section Leader**: Akasha Tigalappanavara <at5854@nyu.edu>\n",
    "\n",
    "**Lectures**: Wednesdays 6:45pm-8:25pm, 19 University Place, Room 102\n",
    "\n",
    "**Labs**: Thursdays 7:10pm-8:00pm, 19 University Place, Room 102"
   ]
  },
  {
   "cell_type": "markdown",
   "metadata": {
    "slideshow": {
     "slide_type": "slide"
    }
   },
   "source": [
    "# Materials/links\n",
    "\n",
    "* All materials and announcements will be posted on NYU Classes <https://brightspace.nyu.edu>\n",
    "* Additional material from older versions of the course available here:\n",
    "    * https://nyu-cds.github.io/courses/advanced/ (including grading information)\n"
   ]
  },
  {
   "cell_type": "markdown",
   "metadata": {
    "slideshow": {
     "slide_type": "slide"
    }
   },
   "source": [
    "# Objectives of this course\n",
    "\n",
    "<img src=\"https://upload.wikimedia.org/wikipedia/commons/thumb/f/f8/Python_logo_and_wordmark.svg/1024px-Python_logo_and_wordmark.svg.png\" width=\"200\">\n",
    "<!-- <img src=\"https://upload.wikimedia.org/wikipedia/commons/thumb/3/31/NumPy_logo_2020.svg/220px-NumPy_logo_2020.svg.png\" width=\"200\"> -->\n",
    "\n",
    "* Python + Numpy/Scipy are great for data science and scientific computing\n",
    "    * Data analysis, machine learning, big data processing, computational physics, numerical optimization, etc.\n"
   ]
  },
  {
   "cell_type": "markdown",
   "metadata": {
    "slideshow": {
     "slide_type": "fragment"
    }
   },
   "source": [
    "* Python can be slow! Sometimes more is needed for better performance\n",
    "    * Performance optimization, low-level code\n",
    "    * Specialized hardware (GPUs)\n",
    "    * Parallelism, concurrency\n",
    "    * Distributed computing"
   ]
  },
  {
   "cell_type": "markdown",
   "metadata": {},
   "source": [
    "* There is no primary textbook for the course. Optional textbooks for additional information\n",
    "    * Introduction to Parallel Computing, Ananth Grama, Anshul Gupta, George Karypis, Vipin Kumar, Pearson; 2 edition (January 26, 2003), ISBN 978-0201648652\n",
    "    * Big Data: Principles and best practices of scalable realtime data systems, 1st Edition, Nathan Marz, James Warren, ISBN 978-1617290343"
   ]
  },
  {
   "cell_type": "markdown",
   "metadata": {
    "slideshow": {
     "slide_type": "fragment"
    }
   },
   "source": [
    "* Hands on! Learn by doing\n",
    "* \"Learn how to learn\""
   ]
  },
  {
   "cell_type": "markdown",
   "metadata": {
    "slideshow": {
     "slide_type": "slide"
    }
   },
   "source": [
    "# Survey\n",
    "\n",
    "* Undergrad/Master's/PhD? CDS vs other?\n",
    "* Python knowledge?\n",
    "* Shell?\n",
    "* C/C++?\n",
    "* Mac/Windows/Linux?"
   ]
  },
  {
   "cell_type": "markdown",
   "metadata": {
    "slideshow": {
     "slide_type": "slide"
    }
   },
   "source": [
    "# Installation\n",
    "\n",
    "Things you should install:\n",
    "* Shell (bash/zsh, typically included in OS, see [here](https://www.windowscentral.com/how-install-bash-shell-command-line-windows-10) for Windows)\n",
    "* Python with [Anaconda](https://docs.anaconda.com/anaconda/install/) (or [Miniconda](https://docs.conda.io/projects/conda/en/latest/user-guide/install/)) distribution\n",
    "* IPython, Jupyter Notebook, numpy\n",
    "    `conda install ipython jupyter numpy`"
   ]
  },
  {
   "cell_type": "markdown",
   "metadata": {
    "slideshow": {
     "slide_type": "slide"
    }
   },
   "source": [
    "# Shell\n",
    "\n",
    "Material for this lecture from https://swcarpentry.github.io/shell-novice/"
   ]
  },
  {
   "cell_type": "markdown",
   "metadata": {
    "slideshow": {
     "slide_type": "slide"
    }
   },
   "source": [
    "# What is \"the Shell\"?\n",
    "([source](https://linuxcommand.org/lc3_lts0010.php))\n",
    "\n",
    "\"Simply put, the shell is a program that takes commands from the keyboard and gives them to the operating system to perform. In the old days, it was the only user interface available on a Unix-like system such as Linux. Nowadays, we have *graphical user interfaces (GUIs)* in addition to *command line interfaces (CLIs)* such as the shell.\n",
    "\n",
    "On most Linux systems a program called **bash** (which stands for Bourne Again SHell, an enhanced version of the original Unix shell program, sh, written by Steve Bourne) acts as the shell program. Besides **bash**, there are other shell programs available for Linux systems. These include: **zsh**, **ksh** and **tcsh**.\""
   ]
  },
  {
   "cell_type": "markdown",
   "metadata": {
    "slideshow": {
     "slide_type": "slide"
    }
   },
   "source": [
    "# Navigating Files and Directories\n",
    "\n",
    "* `pwd`: print working directory\n",
    "* `ls`: list files and directories in current path\n",
    "    * `-a` (show hidden) `-l` (more details) `-t` (time order)\n",
    "* `cd`: change directory\n",
    "* `mkdir`: create directory\n",
    "* `rm -r`: delete directory (recursively)\n",
    "\n",
    "Getting help: `<cmd> --help` or `man <cmd>`"
   ]
  },
  {
   "cell_type": "markdown",
   "metadata": {
    "slideshow": {
     "slide_type": "slide"
    }
   },
   "source": [
    "# Files\n",
    "\n",
    "* `touch file.txt`: create empty file\n",
    "* `nano file.txt` : edit file with a text editor\n",
    "* `cat file.txt`, `less file.txt`: view content of a text file\n",
    "<br/><br/>\n",
    "* `cp file_src file_dst` or `cp file_src dir_dst`: copy file to another file or directory\n",
    "* `mv file dir`: move file to directory\n",
    "* `rm file.txt`: delete the file\n",
    "\n",
    "Note: avoid spaces in filenames, stick to letters, numbers, `. - _`"
   ]
  },
  {
   "cell_type": "markdown",
   "metadata": {
    "slideshow": {
     "slide_type": "slide"
    }
   },
   "source": [
    "# Pipes, redirection, filters\n",
    "\n",
    "* `cat`/`head`/`tail`: show input contents\n",
    "* `sort`: sort input lines\n",
    "* `uniq`: de-duplicate sorted inputs\n",
    "* `cut`: extract fields from file\n",
    "* `wc`: count lines, words, characters\n",
    "<br/><br/>\n",
    "* `cmd > file`: redirect output to file\n",
    "* `cmd >> file`: append output to file\n",
    "* `cmd < input_file`: read input from file\n",
    "* `cmd1 | cmd2`: pipe output of cmd1 as input of cmd2\n"
   ]
  },
  {
   "cell_type": "markdown",
   "metadata": {
    "slideshow": {
     "slide_type": "slide"
    }
   },
   "source": [
    "# Wildcards and regular expressions\n",
    "\n",
    "* `*` matches any list of characters\n",
    "    * e.g. `A*`, `*.xml`, `a*.txt`\n",
    "* `[abc]` matches a single character in the list, `[a-f]` letters between a and f\n",
    "* `{ab,bcd}` matches either of the options"
   ]
  },
  {
   "cell_type": "markdown",
   "metadata": {
    "slideshow": {
     "slide_type": "slide"
    }
   },
   "source": [
    "# Bulk operations: the for loop\n",
    "\n",
    "E.g. backing up files:\n",
    "\n",
    "```\n",
    "for f in *.xml; do cp $f $f.bkp; done\n",
    "```\n",
    "\n",
    "#the word \"for\" indicates the start of a \"For-loop\" command\n",
    "\n",
    "$for thing in list_of_things \n",
    "\n",
    "#The word \"do\" indicates the start of job execution list\n",
    "\n",
    " >do \n",
    "\n",
    "    # Indentation within the loop is not required, but aids legibility\n",
    "\n",
    "> operation_using/command $thing \n",
    "\n",
    "#The word \"done\" indicates the end of a loop\n",
    "\n",
    "> done\n",
    "EX1: \n",
    "```\n",
    "$ for loop_variable in 0 1 2 3 4 5 6 7 8 9\n",
    "> do\n",
    ">     echo $loop_variable\n",
    "> done\n",
    "```\n",
    "Ex2:\n",
    "```\n",
    "$ for filename in *.dat\n",
    "> do\n",
    ">     echo $filename\n",
    ">     head -n 2 $filename | tail -n 1\n",
    "> done\n",
    "```"
   ]
  },
  {
   "cell_type": "markdown",
   "metadata": {
    "slideshow": {
     "slide_type": "slide"
    }
   },
   "source": [
    "# Shell scripts\n",
    "\n",
    "* You can save commands in a shell script and re-use them\n",
    "\n",
    "Here, `$1` is the first command-line argument, in this case the desired extension:\n",
    "```\n",
    "# contents of the file backup.sh\n",
    "for f in *.$1; do cp $f $f.bkp; done\n",
    "```\n",
    "\n",
    "```bash backup.sh xml```"
   ]
  },
  {
   "cell_type": "markdown",
   "metadata": {
    "slideshow": {
     "slide_type": "slide"
    }
   },
   "source": [
    "# Finding things\n",
    "\n",
    "* `grep 'something' file.txt`: find something in files\n",
    "    * `-i` (case insensitive) `-v` (invert match) `-n` (line numbers)\n",
    "* `find dir`: find files in directory\n",
    "    * `-type d` (directories only) `-type f` (files only) `-name '*.txt'` (match regex)\n",
    "    * example:\n",
    "    ```\n",
    "    wc -l $(find . -name '*.txt')\n",
    "    ```"
   ]
  },
  {
   "cell_type": "markdown",
   "metadata": {
    "slideshow": {
     "slide_type": "slide"
    }
   },
   "source": [
    "\n",
    "\n",
    "\n",
    "###  Exercise : go through https://swcarpentry.github.io/shell-novice/,\n",
    "\n",
    "### For labs tomorrow: install anaconda, ipython/jupyter, numpy/scipy/pandas\n",
    "\n"
   ]
  }
 ],
 "metadata": {
  "celltoolbar": "Slideshow",
  "kernelspec": {
   "display_name": "Python 3 (ipykernel)",
   "language": "python",
   "name": "python3"
  },
  "language_info": {
   "codemirror_mode": {
    "name": "ipython",
    "version": 3
   },
   "file_extension": ".py",
   "mimetype": "text/x-python",
   "name": "python",
   "nbconvert_exporter": "python",
   "pygments_lexer": "ipython3",
   "version": "3.12.7"
  }
 },
 "nbformat": 4,
 "nbformat_minor": 4
}
